{
 "cells": [
  {
   "cell_type": "code",
   "execution_count": 1,
   "id": "39edf58f",
   "metadata": {},
   "outputs": [],
   "source": [
    "import pandas as pd\n",
    "import numpy as np\n",
    "import tensorflow as tf\n",
    "from tensorflow import keras\n",
    "import matplotlib.pyplot as plt"
   ]
  },
  {
   "cell_type": "code",
   "execution_count": 2,
   "id": "6ecdc735",
   "metadata": {},
   "outputs": [],
   "source": [
    "fashion_mnist = keras.datasets.fashion_mnist\n",
    "(X_train_full, y_train_full),(X_test, y_test) = fashion_mnist.load_data()"
   ]
  },
  {
   "cell_type": "code",
   "execution_count": 3,
   "id": "f182ec82",
   "metadata": {},
   "outputs": [],
   "source": [
    "class_names = [\"T-shirt/top\",\"Trouser\",\"Pullover\",\"Dress\",\"Coat\",\"Sandal\",\"Shirt\",\"Sneaker\",\"Bag\",\"Ankle boot\"]"
   ]
  },
  {
   "cell_type": "markdown",
   "id": "7f98c770",
   "metadata": {},
   "source": [
    "# Reshape data"
   ]
  },
  {
   "cell_type": "code",
   "execution_count": 6,
   "id": "c702c3e7",
   "metadata": {},
   "outputs": [],
   "source": [
    "#in ANN we flattened the data\n",
    "#in CNN in need 3D data i.e. h * w * (no. of channels)\n",
    "#so we reshape our data\n",
    "#(60000, 28, 28, 1) here 1 = no. of channels\n",
    "X_train_full = X_train_full.reshape((60000, 28, 28, 1))\n",
    "X_test = X_test.reshape((10000, 28, 28, 1))"
   ]
  },
  {
   "cell_type": "code",
   "execution_count": 7,
   "id": "2c78e4d0",
   "metadata": {},
   "outputs": [],
   "source": [
    "X_train_n = X_train_full/255\n",
    "X_test_n = X_test/255"
   ]
  },
  {
   "cell_type": "code",
   "execution_count": 8,
   "id": "d15a617b",
   "metadata": {},
   "outputs": [],
   "source": [
    "X_valid, X_train = X_train_n[:5000],X_train_n[5000:]\n",
    "y_valid, y_train = y_train_full[:5000],y_train_full[5000:]\n",
    "X_test = X_test_n"
   ]
  },
  {
   "cell_type": "code",
   "execution_count": 9,
   "id": "324ce2cc",
   "metadata": {},
   "outputs": [],
   "source": [
    "np.random.seed(42)\n",
    "tf.random.set_seed(42)"
   ]
  },
  {
   "cell_type": "code",
   "execution_count": 12,
   "id": "6a5f3341",
   "metadata": {},
   "outputs": [],
   "source": [
    "#here we have 1 convolution layer only\n",
    "#pooling has only 1 layer always\n",
    "model1 = keras.models.Sequential()\n",
    "model1.add(keras.layers.Conv2D(filters = 32, kernel_size = (3, 3),strides = 1, padding = 'valid', activation = 'relu', input_shape = (28, 28, 1)))\n",
    "model1.add(keras.layers.MaxPooling2D((2,2)))\n",
    "\n",
    "model1.add(keras.layers.Flatten())\n",
    "model1.add(keras.layers.Dense(300,activation = 'relu'))\n",
    "model1.add(keras.layers.Dense(100,activation = 'relu'))\n",
    "model1.add(keras.layers.Dense(10,activation = 'softmax'))"
   ]
  },
  {
   "cell_type": "code",
   "execution_count": 13,
   "id": "17d269ba",
   "metadata": {},
   "outputs": [
    {
     "name": "stdout",
     "output_type": "stream",
     "text": [
      "Model: \"sequential_2\"\n",
      "_________________________________________________________________\n",
      " Layer (type)                Output Shape              Param #   \n",
      "=================================================================\n",
      " conv2d (Conv2D)             (None, 26, 26, 32)        320       \n",
      "                                                                 \n",
      " max_pooling2d (MaxPooling2  (None, 13, 13, 32)        0         \n",
      " D)                                                              \n",
      "                                                                 \n",
      " flatten (Flatten)           (None, 5408)              0         \n",
      "                                                                 \n",
      " dense (Dense)               (None, 300)               1622700   \n",
      "                                                                 \n",
      " dense_1 (Dense)             (None, 100)               30100     \n",
      "                                                                 \n",
      " dense_2 (Dense)             (None, 10)                1010      \n",
      "                                                                 \n",
      "=================================================================\n",
      "Total params: 1654130 (6.31 MB)\n",
      "Trainable params: 1654130 (6.31 MB)\n",
      "Non-trainable params: 0 (0.00 Byte)\n",
      "_________________________________________________________________\n"
     ]
    }
   ],
   "source": [
    "model1.summary()"
   ]
  },
  {
   "cell_type": "code",
   "execution_count": 14,
   "id": "bb5325d1",
   "metadata": {},
   "outputs": [],
   "source": [
    "model1.compile(loss = 'sparse_categorical_crossentropy', optimizer = 'sgd', metrics = ['accuracy'])"
   ]
  },
  {
   "cell_type": "code",
   "execution_count": 15,
   "id": "3c57a34e",
   "metadata": {},
   "outputs": [
    {
     "name": "stdout",
     "output_type": "stream",
     "text": [
      "Epoch 1/30\n",
      "1719/1719 [==============================] - 8s 5ms/step - loss: 0.7094 - accuracy: 0.7481 - val_loss: 0.5618 - val_accuracy: 0.7988\n",
      "Epoch 2/30\n",
      "1719/1719 [==============================] - 9s 5ms/step - loss: 0.4693 - accuracy: 0.8292 - val_loss: 0.4028 - val_accuracy: 0.8618\n",
      "Epoch 3/30\n",
      "1719/1719 [==============================] - 9s 5ms/step - loss: 0.4110 - accuracy: 0.8520 - val_loss: 0.6045 - val_accuracy: 0.7696\n",
      "Epoch 4/30\n",
      "1719/1719 [==============================] - 9s 5ms/step - loss: 0.3742 - accuracy: 0.8649 - val_loss: 0.3459 - val_accuracy: 0.8804\n",
      "Epoch 5/30\n",
      "1719/1719 [==============================] - 9s 5ms/step - loss: 0.3470 - accuracy: 0.8743 - val_loss: 0.3340 - val_accuracy: 0.8808\n",
      "Epoch 6/30\n",
      "1719/1719 [==============================] - 9s 5ms/step - loss: 0.3231 - accuracy: 0.8823 - val_loss: 0.3180 - val_accuracy: 0.8900\n",
      "Epoch 7/30\n",
      "1719/1719 [==============================] - 9s 5ms/step - loss: 0.3059 - accuracy: 0.8901 - val_loss: 0.3221 - val_accuracy: 0.8872\n",
      "Epoch 8/30\n",
      "1719/1719 [==============================] - 9s 5ms/step - loss: 0.2915 - accuracy: 0.8939 - val_loss: 0.3298 - val_accuracy: 0.8806\n",
      "Epoch 9/30\n",
      "1719/1719 [==============================] - 9s 5ms/step - loss: 0.2776 - accuracy: 0.8991 - val_loss: 0.2936 - val_accuracy: 0.8944\n",
      "Epoch 10/30\n",
      "1719/1719 [==============================] - 9s 5ms/step - loss: 0.2662 - accuracy: 0.9036 - val_loss: 0.2874 - val_accuracy: 0.8952\n",
      "Epoch 11/30\n",
      "1719/1719 [==============================] - 8s 5ms/step - loss: 0.2557 - accuracy: 0.9056 - val_loss: 0.2837 - val_accuracy: 0.9006\n",
      "Epoch 12/30\n",
      "1719/1719 [==============================] - 8s 5ms/step - loss: 0.2451 - accuracy: 0.9104 - val_loss: 0.2648 - val_accuracy: 0.9042\n",
      "Epoch 13/30\n",
      "1719/1719 [==============================] - 8s 5ms/step - loss: 0.2367 - accuracy: 0.9131 - val_loss: 0.2654 - val_accuracy: 0.9062\n",
      "Epoch 14/30\n",
      "1719/1719 [==============================] - 8s 5ms/step - loss: 0.2283 - accuracy: 0.9164 - val_loss: 0.2897 - val_accuracy: 0.8904\n",
      "Epoch 15/30\n",
      "1719/1719 [==============================] - 9s 5ms/step - loss: 0.2194 - accuracy: 0.9202 - val_loss: 0.2731 - val_accuracy: 0.8998\n",
      "Epoch 16/30\n",
      "1719/1719 [==============================] - 9s 5ms/step - loss: 0.2127 - accuracy: 0.9218 - val_loss: 0.2510 - val_accuracy: 0.9068\n",
      "Epoch 17/30\n",
      "1719/1719 [==============================] - 8s 5ms/step - loss: 0.2046 - accuracy: 0.9244 - val_loss: 0.2906 - val_accuracy: 0.8978\n",
      "Epoch 18/30\n",
      "1719/1719 [==============================] - 8s 5ms/step - loss: 0.1983 - accuracy: 0.9277 - val_loss: 0.2732 - val_accuracy: 0.9056\n",
      "Epoch 19/30\n",
      "1719/1719 [==============================] - 8s 5ms/step - loss: 0.1916 - accuracy: 0.9312 - val_loss: 0.2489 - val_accuracy: 0.9088\n",
      "Epoch 20/30\n",
      "1719/1719 [==============================] - 8s 5ms/step - loss: 0.1843 - accuracy: 0.9335 - val_loss: 0.2764 - val_accuracy: 0.8988\n",
      "Epoch 21/30\n",
      "1719/1719 [==============================] - 8s 5ms/step - loss: 0.1770 - accuracy: 0.9361 - val_loss: 0.2430 - val_accuracy: 0.9120\n",
      "Epoch 22/30\n",
      "1719/1719 [==============================] - 8s 5ms/step - loss: 0.1706 - accuracy: 0.9380 - val_loss: 0.2425 - val_accuracy: 0.9136\n",
      "Epoch 23/30\n",
      "1719/1719 [==============================] - 8s 5ms/step - loss: 0.1643 - accuracy: 0.9400 - val_loss: 0.2420 - val_accuracy: 0.9146\n",
      "Epoch 24/30\n",
      "1719/1719 [==============================] - 8s 5ms/step - loss: 0.1580 - accuracy: 0.9431 - val_loss: 0.2467 - val_accuracy: 0.9100\n",
      "Epoch 25/30\n",
      "1719/1719 [==============================] - 8s 5ms/step - loss: 0.1520 - accuracy: 0.9448 - val_loss: 0.2399 - val_accuracy: 0.9154\n",
      "Epoch 26/30\n",
      "1719/1719 [==============================] - 8s 5ms/step - loss: 0.1466 - accuracy: 0.9466 - val_loss: 0.2327 - val_accuracy: 0.9202\n",
      "Epoch 27/30\n",
      "1719/1719 [==============================] - 8s 5ms/step - loss: 0.1405 - accuracy: 0.9490 - val_loss: 0.2389 - val_accuracy: 0.9190\n",
      "Epoch 28/30\n",
      "1719/1719 [==============================] - 8s 5ms/step - loss: 0.1345 - accuracy: 0.9518 - val_loss: 0.2632 - val_accuracy: 0.9082\n",
      "Epoch 29/30\n",
      "1719/1719 [==============================] - 8s 5ms/step - loss: 0.1290 - accuracy: 0.9531 - val_loss: 0.2443 - val_accuracy: 0.9150\n",
      "Epoch 30/30\n",
      "1719/1719 [==============================] - 8s 5ms/step - loss: 0.1236 - accuracy: 0.9554 - val_loss: 0.2470 - val_accuracy: 0.9146\n"
     ]
    }
   ],
   "source": [
    "model_history = model1.fit(X_train,y_train, epochs = 30, validation_data = (X_valid, y_valid))"
   ]
  },
  {
   "cell_type": "code",
   "execution_count": 16,
   "id": "86901931",
   "metadata": {},
   "outputs": [
    {
     "data": {
      "image/png": "[encoded data removed]",
      "text/plain": [
       "<Figure size 800x500 with 1 Axes>"
      ]
     },
     "metadata": {},
     "output_type": "display_data"
    }
   ],
   "source": [
    "pd.DataFrame(model_history.history).plot(figsize = (8,5))\n",
    "plt.grid(True)\n",
    "plt.gca().set_ylim(0,1)\n",
    "plt.show()"
   ]
  },
  {
   "cell_type": "code",
   "execution_count": 17,
   "id": "03f27a2a",
   "metadata": {},
   "outputs": [
    {
     "name": "stdout",
     "output_type": "stream",
     "text": [
      "313/313 [==============================] - 0s 1ms/step - loss: 0.2588 - accuracy: 0.9104\n"
     ]
    },
    {
     "data": {
      "text/plain": [
       "[0.25883057713508606, 0.9103999733924866]"
      ]
     },
     "execution_count": 17,
     "metadata": {},
     "output_type": "execute_result"
    }
   ],
   "source": [
    "model1.evaluate(X_test,y_test)"
   ]
  },
  {
   "cell_type": "code",
   "execution_count": 18,
   "id": "9b94c71d",
   "metadata": {},
   "outputs": [],
   "source": [
    "X_new = X_test[:3]"
   ]
  },
  {
   "cell_type": "code",
   "execution_count": 20,
   "id": "b7e378e6",
   "metadata": {},
   "outputs": [
    {
     "name": "stdout",
     "output_type": "stream",
     "text": [
      "1/1 [==============================] - 0s 47ms/step\n"
     ]
    },
    {
     "data": {
      "text/plain": [
       "array([[5.13245095e-06, 4.94967871e-08, 5.59841567e-07, 5.71221051e-07,\n",
       "        3.03671641e-07, 4.09544125e-04, 3.71601033e-07, 1.02307310e-03,\n",
       "        5.12184342e-05, 9.98509228e-01],\n",
       "       [1.09648063e-05, 6.27445873e-11, 9.99946952e-01, 1.18685017e-08,\n",
       "        3.49404545e-05, 1.83362631e-10, 7.20855496e-06, 1.20498324e-13,\n",
       "        1.05925185e-10, 2.60451695e-11],\n",
       "       [1.52606106e-07, 9.99997377e-01, 3.15390547e-10, 2.11240808e-06,\n",
       "        3.00143085e-07, 3.60219604e-10, 6.66216682e-09, 5.47803226e-11,\n",
       "        1.79643019e-11, 7.39816194e-11]], dtype=float32)"
      ]
     },
     "execution_count": 20,
     "metadata": {},
     "output_type": "execute_result"
    }
   ],
   "source": [
    "y_proba = model1.predict(X_new)\n",
    "y_proba"
   ]
  },
  {
   "cell_type": "code",
   "execution_count": 21,
   "id": "3e6dd72c",
   "metadata": {},
   "outputs": [
    {
     "name": "stdout",
     "output_type": "stream",
     "text": [
      "1/1 [==============================] - 0s 9ms/step\n"
     ]
    },
    {
     "data": {
      "text/plain": [
       "array([9, 2, 1])"
      ]
     },
     "execution_count": 21,
     "metadata": {},
     "output_type": "execute_result"
    }
   ],
   "source": [
    "y_pred = np.argmax(model1.predict(X_new),axis = 1)\n",
    "y_pred"
   ]
  },
  {
   "cell_type": "markdown",
   "id": "ee4d612e",
   "metadata": {},
   "source": [
    "# Model on same data without pooling"
   ]
  },
  {
   "cell_type": "code",
   "execution_count": 22,
   "id": "eea65723",
   "metadata": {},
   "outputs": [],
   "source": [
    "model2 = keras.models.Sequential()\n",
    "model2.add(keras.layers.Conv2D(filters = 32, kernel_size = (3, 3),strides = 1, padding = 'valid', activation = 'relu', input_shape = (28, 28, 1)))\n",
    "model2.add(keras.layers.Flatten())\n",
    "model2.add(keras.layers.Dense(300,activation = 'relu'))\n",
    "model2.add(keras.layers.Dense(100,activation = 'relu'))\n",
    "model2.add(keras.layers.Dense(10,activation = 'softmax'))"
   ]
  },
  {
   "cell_type": "code",
   "execution_count": 23,
   "id": "9a4d65f7",
   "metadata": {},
   "outputs": [],
   "source": [
    "model2.compile(loss = 'sparse_categorical_crossentropy', optimizer = 'sgd', metrics = ['accuracy'])"
   ]
  },
  {
   "cell_type": "code",
   "execution_count": 24,
   "id": "0990f329",
   "metadata": {},
   "outputs": [
    {
     "name": "stdout",
     "output_type": "stream",
     "text": [
      "Model: \"sequential_3\"\n",
      "_________________________________________________________________\n",
      " Layer (type)                Output Shape              Param #   \n",
      "=================================================================\n",
      " conv2d_1 (Conv2D)           (None, 26, 26, 32)        320       \n",
      "                                                                 \n",
      " flatten_1 (Flatten)         (None, 21632)             0         \n",
      "                                                                 \n",
      " dense_3 (Dense)             (None, 300)               6489900   \n",
      "                                                                 \n",
      " dense_4 (Dense)             (None, 100)               30100     \n",
      "                                                                 \n",
      " dense_5 (Dense)             (None, 10)                1010      \n",
      "                                                                 \n",
      "=================================================================\n",
      "Total params: 6521330 (24.88 MB)\n",
      "Trainable params: 6521330 (24.88 MB)\n",
      "Non-trainable params: 0 (0.00 Byte)\n",
      "_________________________________________________________________\n"
     ]
    }
   ],
   "source": [
    "model2.summary()\n",
    "#almost 4 times the no. of papameters than model 1"
   ]
  },
  {
   "cell_type": "code",
   "execution_count": 25,
   "id": "83fb1832",
   "metadata": {},
   "outputs": [
    {
     "name": "stdout",
     "output_type": "stream",
     "text": [
      "Epoch 1/3\n",
      "1719/1719 [==============================] - 8s 5ms/step - loss: 0.1164 - accuracy: 0.9593 - val_loss: 0.2499 - val_accuracy: 0.9172\n",
      "Epoch 2/3\n",
      "1719/1719 [==============================] - 8s 5ms/step - loss: 0.1120 - accuracy: 0.9609 - val_loss: 0.2433 - val_accuracy: 0.9160\n",
      "Epoch 3/3\n",
      "1719/1719 [==============================] - 8s 5ms/step - loss: 0.1063 - accuracy: 0.9624 - val_loss: 0.2624 - val_accuracy: 0.9124\n"
     ]
    }
   ],
   "source": [
    "model1_history = model1.fit(X_train,y_train, epochs = 3, validation_data = (X_valid, y_valid))\n"
   ]
  },
  {
   "cell_type": "code",
   "execution_count": 27,
   "id": "50020fdc",
   "metadata": {},
   "outputs": [
    {
     "name": "stdout",
     "output_type": "stream",
     "text": [
      "Epoch 1/3\n",
      "1719/1719 [==============================] - 16s 9ms/step - loss: 0.6444 - accuracy: 0.7697 - val_loss: 0.5399 - val_accuracy: 0.8084\n",
      "Epoch 2/3\n",
      "1719/1719 [==============================] - 16s 9ms/step - loss: 0.4507 - accuracy: 0.8354 - val_loss: 0.3912 - val_accuracy: 0.8606\n",
      "Epoch 3/3\n",
      "1719/1719 [==============================] - 16s 9ms/step - loss: 0.3993 - accuracy: 0.8547 - val_loss: 0.6608 - val_accuracy: 0.7660\n"
     ]
    }
   ],
   "source": [
    "model2_history = model2.fit(X_train,y_train, epochs = 3, validation_data = (X_valid, y_valid))"
   ]
  },
  {
   "cell_type": "markdown",
   "id": "a6471e68",
   "metadata": {},
   "source": [
    "here the time is almost double in model 2 than in model 1 but accuracy of model 2 is only slightly better"
   ]
  }
 ],
 "metadata": {
  "kernelspec": {
   "display_name": "Python 3 (ipykernel)",
   "language": "python",
   "name": "python3"
  },
  "language_info": {
   "codemirror_mode": {
    "name": "ipython",
    "version": 3
   },
   "file_extension": ".py",
   "mimetype": "text/x-python",
   "name": "python",
   "nbconvert_exporter": "python",
   "pygments_lexer": "ipython3",
   "version": "3.11.3"
  }
 },
 "nbformat": 4,
 "nbformat_minor": 5
}
